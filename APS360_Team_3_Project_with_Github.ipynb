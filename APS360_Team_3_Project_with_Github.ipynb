{
  "nbformat": 4,
  "nbformat_minor": 0,
  "metadata": {
    "colab": {
      "provenance": [],
      "collapsed_sections": [],
      "authorship_tag": "ABX9TyNqkjTq5AcssqO3dqu5RCK8",
      "include_colab_link": true
    },
    "kernelspec": {
      "name": "python3",
      "display_name": "Python 3"
    },
    "language_info": {
      "name": "python"
    }
  },
  "cells": [
    {
      "cell_type": "markdown",
      "metadata": {
        "id": "view-in-github",
        "colab_type": "text"
      },
      "source": [
        "<a href=\"https://colab.research.google.com/github/giyuhwang/waste_classification/blob/main/APS360_Team_3_Project_with_Github.ipynb\" target=\"_parent\"><img src=\"https://colab.research.google.com/assets/colab-badge.svg\" alt=\"Open In Colab\"/></a>"
      ]
    },
    {
      "cell_type": "markdown",
      "source": [
        "APS360 Team 3 Project with Github"
      ],
      "metadata": {
        "id": "ISQd_oK23kJY"
      }
    },
    {
      "cell_type": "markdown",
      "source": [
        "Github Link: https://github.com/giyuhwang/waste_classification "
      ],
      "metadata": {
        "id": "MO5YgH6U4U50"
      }
    }
  ]
}